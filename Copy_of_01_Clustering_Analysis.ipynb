{
  "nbformat": 4,
  "nbformat_minor": 0,
  "metadata": {
    "colab": {
      "name": "Copy of 01_Clustering_Analysis.ipynb",
      "provenance": [],
      "include_colab_link": true
    },
    "kernelspec": {
      "name": "python3",
      "display_name": "Python 3"
    },
    "accelerator": "GPU"
  },
  "cells": [
    {
      "cell_type": "markdown",
      "metadata": {
        "id": "view-in-github",
        "colab_type": "text"
      },
      "source": [
        "<a href=\"https://colab.research.google.com/github/cbsheffi/PDSwR2/blob/master/Copy_of_01_Clustering_Analysis.ipynb\" target=\"_parent\"><img src=\"https://colab.research.google.com/assets/colab-badge.svg\" alt=\"Open In Colab\"/></a>"
      ]
    },
    {
      "cell_type": "markdown",
      "metadata": {
        "id": "ju2-JgAgtg0m"
      },
      "source": [
        "# Step By Step Tutorial On Clustering Models Using Python\n",
        "### A Comparision of k-means clustering, hierachical clustering, Gaussian mixed model, and DBSCAN\n",
        "Author: Amy Zhuang"
      ]
    },
    {
      "cell_type": "markdown",
      "metadata": {
        "id": "PjCtn0b8b3eO"
      },
      "source": [
        "## Mount Google Drive\n"
      ]
    },
    {
      "cell_type": "code",
      "metadata": {
        "id": "TdROjuQifDei",
        "outputId": "9b16af9c-53a9-4ea6-f661-91cc3d6e8abb",
        "colab": {
          "base_uri": "https://localhost:8080/",
          "height": 34
        }
      },
      "source": [
        "!pwd"
      ],
      "execution_count": null,
      "outputs": [
        {
          "output_type": "stream",
          "text": [
            "/content\n"
          ],
          "name": "stdout"
        }
      ]
    },
    {
      "cell_type": "code",
      "metadata": {
        "id": "dmTa9JU_fAAc",
        "outputId": "f876d0d2-9b0b-445f-c6a8-678bbed3a33c",
        "colab": {
          "base_uri": "https://localhost:8080/",
          "height": 122
        }
      },
      "source": [
        "from google.colab import drive\n",
        "drive.mount('/content/drive')"
      ],
      "execution_count": null,
      "outputs": [
        {
          "output_type": "stream",
          "text": [
            "Go to this URL in a browser: https://accounts.google.com/o/oauth2/auth?client_id=947318989803-6bn6qk8qdgf4n4g3pfee6491hc0brc4i.apps.googleusercontent.com&redirect_uri=urn%3aietf%3awg%3aoauth%3a2.0%3aoob&response_type=code&scope=email%20https%3a%2f%2fwww.googleapis.com%2fauth%2fdocs.test%20https%3a%2f%2fwww.googleapis.com%2fauth%2fdrive%20https%3a%2f%2fwww.googleapis.com%2fauth%2fdrive.photos.readonly%20https%3a%2f%2fwww.googleapis.com%2fauth%2fpeopleapi.readonly\n",
            "\n",
            "Enter your authorization code:\n",
            "··········\n",
            "Mounted at /content/drive\n"
          ],
          "name": "stdout"
        }
      ]
    },
    {
      "cell_type": "markdown",
      "metadata": {
        "id": "XYvScLRk_F4Z"
      },
      "source": [
        ""
      ]
    },
    {
      "cell_type": "code",
      "metadata": {
        "id": "j0a4mTk9o1Qg"
      },
      "source": [
        "# Copyright 2019 Google Inc.\n",
        "\n",
        "# Licensed under the Apache License, Version 2.0 (the \"License\");\n",
        "# you may not use this file except in compliance with the License.\n",
        "# You may obtain a copy of the License at\n",
        "\n",
        "#     http://www.apache.org/licenses/LICENSE-2.0\n",
        "\n",
        "# Unless required by applicable law or agreed to in writing, software\n",
        "# distributed under the License is distributed on an \"AS IS\" BASIS,\n",
        "# WITHOUT WARRANTIES OR CONDITIONS OF ANY KIND, either express or implied.\n",
        "# See the License for the specific language governing permissions and\n",
        "# limitations under the License."
      ],
      "execution_count": null,
      "outputs": []
    },
    {
      "cell_type": "markdown",
      "metadata": {
        "id": "mztNaUtW_IZS"
      },
      "source": [
        "## Verify GPU and TPU"
      ]
    },
    {
      "cell_type": "code",
      "metadata": {
        "id": "TRX8YEyz_Ozu",
        "outputId": "ca4e0318-15b8-4345-f2c0-a8aeb1d637da",
        "colab": {
          "base_uri": "https://localhost:8080/",
          "height": 80
        }
      },
      "source": [
        "import tensorflow as tf\n",
        "tf.test.gpu_device_name()"
      ],
      "execution_count": null,
      "outputs": [
        {
          "output_type": "display_data",
          "data": {
            "text/html": [
              "<p style=\"color: red;\">\n",
              "The default version of TensorFlow in Colab will soon switch to TensorFlow 2.x.<br>\n",
              "We recommend you <a href=\"https://www.tensorflow.org/guide/migrate\" target=\"_blank\">upgrade</a> now \n",
              "or ensure your notebook will continue to use TensorFlow 1.x via the <code>%tensorflow_version 1.x</code> magic:\n",
              "<a href=\"https://colab.research.google.com/notebooks/tensorflow_version.ipynb\" target=\"_blank\">more info</a>.</p>\n"
            ],
            "text/plain": [
              "<IPython.core.display.HTML object>"
            ]
          },
          "metadata": {
            "tags": []
          }
        },
        {
          "output_type": "execute_result",
          "data": {
            "text/plain": [
              "'/device:GPU:0'"
            ]
          },
          "metadata": {
            "tags": []
          },
          "execution_count": 1
        }
      ]
    },
    {
      "cell_type": "code",
      "metadata": {
        "id": "83vFJoLZ_utu",
        "outputId": "4df47a72-fcd3-444c-ffbb-078f20a741a8",
        "colab": {
          "base_uri": "https://localhost:8080/",
          "height": 34
        }
      },
      "source": [
        "import os\n",
        "if 'COLAB_TPU_ADDR' not in os.environ:\n",
        "  print('Not connected to TPU')\n",
        "else:\n",
        "  print(\"Connected to TPU\")"
      ],
      "execution_count": null,
      "outputs": [
        {
          "output_type": "stream",
          "text": [
            "Not connected to TPU\n"
          ],
          "name": "stdout"
        }
      ]
    },
    {
      "cell_type": "markdown",
      "metadata": {
        "id": "dUShpwleQz3C"
      },
      "source": [
        "Clustering model is a type of unsupervised model that is commonly used to segmenting similar objects into groups. Data from the same group have similar characteristics and attributes. There are four main typs of clustering models:"
      ]
    },
    {
      "cell_type": "markdown",
      "metadata": {
        "id": "ObMkeP-ov9H3"
      },
      "source": [
        "## Types Of Clustering Models"
      ]
    },
    {
      "cell_type": "markdown",
      "metadata": {
        "id": "9lUD1AJZ9xM9"
      },
      "source": [
        "*   Centroid Model: K-means clustering is an example of a centroid model. This type of clustering model uses the distance between a data point and the centroid of the cluster to group data.\n",
        "*   Distribution Model: Gaussian Mixed Model (GMM) is a popular distribution model. This type of clustering model segments data based on their probability of belonging to the same distribution.\n",
        "*   Connectivity Model: Hierachical Clustering Model is a commonly used connectivity model. This type of clustering model use the closeness of the data points to decide the clusters.\n",
        "*   Density Model: Density-Based Spatial Clustering of Applications with Noise (DBSCAN) is a popular density model. This type of clustering model scans the data space and assign clusters based on the density of data points."
      ]
    },
    {
      "cell_type": "markdown",
      "metadata": {
        "id": "CS5xIzUjc-IV"
      },
      "source": [
        "In this tutorial, step by step implementation of different clustering models in Python will be provided. To be specific, the following topics will be covered:\n",
        "\n",
        "*   How to decide the number of clusters for a model?\n",
        "*   K-means clustering model\n",
        "*   Gaussian Mixed Model (GMM)\n",
        "*   Hierachical Clustering Model\n",
        "*   Density-Based Spatial Clustering of Applications with Noise (DBSCAN) \n",
        "\n",
        "Let's get started!"
      ]
    },
    {
      "cell_type": "markdown",
      "metadata": {
        "id": "o-Q5Nfzd6lSE"
      },
      "source": [
        "## Import Libraries"
      ]
    },
    {
      "cell_type": "code",
      "metadata": {
        "id": "k7wM9m8J60Ze",
        "outputId": "e5ae6adc-b941-4a59-a96b-6c8dfbe53c4a",
        "colab": {
          "base_uri": "https://localhost:8080/",
          "height": 51
        }
      },
      "source": [
        "import pandas as pd\n",
        "import numpy as np\n",
        "import matplotlib.pyplot as plt\n",
        "%matplotlib inline\n",
        "from sklearn.cluster import KMeans\n",
        "import scipy.cluster.hierarchy as sch\n",
        "from sklearn.mixture import GaussianMixture\n",
        "from sklearn.cluster import DBSCAN\n",
        "from sklearn.cluster import OPTICS\n",
        "from sklearn.decomposition import PCA\n",
        "import seaborn as sns"
      ],
      "execution_count": null,
      "outputs": [
        {
          "output_type": "stream",
          "text": [
            "/usr/local/lib/python3.6/dist-packages/statsmodels/tools/_testing.py:19: FutureWarning: pandas.util.testing is deprecated. Use the functions in the public API at pandas.testing instead.\n",
            "  import pandas.util.testing as tm\n"
          ],
          "name": "stderr"
        }
      ]
    },
    {
      "cell_type": "markdown",
      "metadata": {
        "id": "GSXsVeao7E18"
      },
      "source": [
        "## Readin Data"
      ]
    },
    {
      "cell_type": "markdown",
      "metadata": {
        "id": "sZnuLebPfM98"
      },
      "source": [
        "We are using the iris dataset for this tutorial. This dataset contains 150 records for 3 types of iris flowers. Sepal length, sepal width, petal lengh and petal width are the features. We also have the actual type of the flowers as labels. Although the label will not be used for the clustering model, it provides the ground truth to evaluate the model performance."
      ]
    },
    {
      "cell_type": "code",
      "metadata": {
        "id": "GHv1MJmL62zR"
      },
      "source": [
        "from sklearn import datasets\n",
        "iris = datasets.load_iris()"
      ],
      "execution_count": null,
      "outputs": []
    },
    {
      "cell_type": "code",
      "metadata": {
        "id": "cdgWLZfq69wi",
        "outputId": "a86b15d2-a2e5-47e1-8a92-f496c34b3ddd",
        "colab": {
          "base_uri": "https://localhost:8080/",
          "height": 34
        }
      },
      "source": [
        "type(iris)"
      ],
      "execution_count": null,
      "outputs": [
        {
          "output_type": "execute_result",
          "data": {
            "text/plain": [
              "sklearn.utils.Bunch"
            ]
          },
          "metadata": {
            "tags": []
          },
          "execution_count": 6
        }
      ]
    },
    {
      "cell_type": "code",
      "metadata": {
        "id": "Dij_xTpc8Dyb"
      },
      "source": [
        "iris"
      ],
      "execution_count": null,
      "outputs": []
    },
    {
      "cell_type": "code",
      "metadata": {
        "id": "4p8WoyR-9PMl",
        "outputId": "b087dfa9-10be-43fa-d90a-604e92d77eff",
        "colab": {
          "base_uri": "https://localhost:8080/",
          "height": 204
        }
      },
      "source": [
        "df = pd.DataFrame(data=iris.data, columns=iris.feature_names)\n",
        "df['target']=iris.target\n",
        "df.head()"
      ],
      "execution_count": null,
      "outputs": [
        {
          "output_type": "execute_result",
          "data": {
            "text/html": [
              "<div>\n",
              "<style scoped>\n",
              "    .dataframe tbody tr th:only-of-type {\n",
              "        vertical-align: middle;\n",
              "    }\n",
              "\n",
              "    .dataframe tbody tr th {\n",
              "        vertical-align: top;\n",
              "    }\n",
              "\n",
              "    .dataframe thead th {\n",
              "        text-align: right;\n",
              "    }\n",
              "</style>\n",
              "<table border=\"1\" class=\"dataframe\">\n",
              "  <thead>\n",
              "    <tr style=\"text-align: right;\">\n",
              "      <th></th>\n",
              "      <th>sepal length (cm)</th>\n",
              "      <th>sepal width (cm)</th>\n",
              "      <th>petal length (cm)</th>\n",
              "      <th>petal width (cm)</th>\n",
              "      <th>target</th>\n",
              "    </tr>\n",
              "  </thead>\n",
              "  <tbody>\n",
              "    <tr>\n",
              "      <th>0</th>\n",
              "      <td>5.1</td>\n",
              "      <td>3.5</td>\n",
              "      <td>1.4</td>\n",
              "      <td>0.2</td>\n",
              "      <td>0</td>\n",
              "    </tr>\n",
              "    <tr>\n",
              "      <th>1</th>\n",
              "      <td>4.9</td>\n",
              "      <td>3.0</td>\n",
              "      <td>1.4</td>\n",
              "      <td>0.2</td>\n",
              "      <td>0</td>\n",
              "    </tr>\n",
              "    <tr>\n",
              "      <th>2</th>\n",
              "      <td>4.7</td>\n",
              "      <td>3.2</td>\n",
              "      <td>1.3</td>\n",
              "      <td>0.2</td>\n",
              "      <td>0</td>\n",
              "    </tr>\n",
              "    <tr>\n",
              "      <th>3</th>\n",
              "      <td>4.6</td>\n",
              "      <td>3.1</td>\n",
              "      <td>1.5</td>\n",
              "      <td>0.2</td>\n",
              "      <td>0</td>\n",
              "    </tr>\n",
              "    <tr>\n",
              "      <th>4</th>\n",
              "      <td>5.0</td>\n",
              "      <td>3.6</td>\n",
              "      <td>1.4</td>\n",
              "      <td>0.2</td>\n",
              "      <td>0</td>\n",
              "    </tr>\n",
              "  </tbody>\n",
              "</table>\n",
              "</div>"
            ],
            "text/plain": [
              "   sepal length (cm)  sepal width (cm)  ...  petal width (cm)  target\n",
              "0                5.1               3.5  ...               0.2       0\n",
              "1                4.9               3.0  ...               0.2       0\n",
              "2                4.7               3.2  ...               0.2       0\n",
              "3                4.6               3.1  ...               0.2       0\n",
              "4                5.0               3.6  ...               0.2       0\n",
              "\n",
              "[5 rows x 5 columns]"
            ]
          },
          "metadata": {
            "tags": []
          },
          "execution_count": 3
        }
      ]
    },
    {
      "cell_type": "code",
      "metadata": {
        "id": "MXODE91N-MDg",
        "outputId": "f05a90af-dd1e-4826-d31c-ff7f6300e147",
        "colab": {
          "base_uri": "https://localhost:8080/",
          "height": 187
        }
      },
      "source": [
        "df.info()"
      ],
      "execution_count": null,
      "outputs": [
        {
          "output_type": "stream",
          "text": [
            "<class 'pandas.core.frame.DataFrame'>\n",
            "RangeIndex: 150 entries, 0 to 149\n",
            "Data columns (total 5 columns):\n",
            "sepal length (cm)    150 non-null float64\n",
            "sepal width (cm)     150 non-null float64\n",
            "petal length (cm)    150 non-null float64\n",
            "petal width (cm)     150 non-null float64\n",
            "target               150 non-null int64\n",
            "dtypes: float64(4), int64(1)\n",
            "memory usage: 6.0 KB\n"
          ],
          "name": "stdout"
        }
      ]
    },
    {
      "cell_type": "code",
      "metadata": {
        "id": "fLmMwLJv_HS1",
        "outputId": "51bc4e8c-4801-4c97-cd95-4ea4e9b91d20",
        "colab": {
          "base_uri": "https://localhost:8080/",
          "height": 297
        }
      },
      "source": [
        "df.describe()"
      ],
      "execution_count": null,
      "outputs": [
        {
          "output_type": "execute_result",
          "data": {
            "text/html": [
              "<div>\n",
              "<style scoped>\n",
              "    .dataframe tbody tr th:only-of-type {\n",
              "        vertical-align: middle;\n",
              "    }\n",
              "\n",
              "    .dataframe tbody tr th {\n",
              "        vertical-align: top;\n",
              "    }\n",
              "\n",
              "    .dataframe thead th {\n",
              "        text-align: right;\n",
              "    }\n",
              "</style>\n",
              "<table border=\"1\" class=\"dataframe\">\n",
              "  <thead>\n",
              "    <tr style=\"text-align: right;\">\n",
              "      <th></th>\n",
              "      <th>sepal length (cm)</th>\n",
              "      <th>sepal width (cm)</th>\n",
              "      <th>petal length (cm)</th>\n",
              "      <th>petal width (cm)</th>\n",
              "      <th>target</th>\n",
              "    </tr>\n",
              "  </thead>\n",
              "  <tbody>\n",
              "    <tr>\n",
              "      <th>count</th>\n",
              "      <td>150.000000</td>\n",
              "      <td>150.000000</td>\n",
              "      <td>150.000000</td>\n",
              "      <td>150.000000</td>\n",
              "      <td>150.000000</td>\n",
              "    </tr>\n",
              "    <tr>\n",
              "      <th>mean</th>\n",
              "      <td>5.843333</td>\n",
              "      <td>3.057333</td>\n",
              "      <td>3.758000</td>\n",
              "      <td>1.199333</td>\n",
              "      <td>1.000000</td>\n",
              "    </tr>\n",
              "    <tr>\n",
              "      <th>std</th>\n",
              "      <td>0.828066</td>\n",
              "      <td>0.435866</td>\n",
              "      <td>1.765298</td>\n",
              "      <td>0.762238</td>\n",
              "      <td>0.819232</td>\n",
              "    </tr>\n",
              "    <tr>\n",
              "      <th>min</th>\n",
              "      <td>4.300000</td>\n",
              "      <td>2.000000</td>\n",
              "      <td>1.000000</td>\n",
              "      <td>0.100000</td>\n",
              "      <td>0.000000</td>\n",
              "    </tr>\n",
              "    <tr>\n",
              "      <th>25%</th>\n",
              "      <td>5.100000</td>\n",
              "      <td>2.800000</td>\n",
              "      <td>1.600000</td>\n",
              "      <td>0.300000</td>\n",
              "      <td>0.000000</td>\n",
              "    </tr>\n",
              "    <tr>\n",
              "      <th>50%</th>\n",
              "      <td>5.800000</td>\n",
              "      <td>3.000000</td>\n",
              "      <td>4.350000</td>\n",
              "      <td>1.300000</td>\n",
              "      <td>1.000000</td>\n",
              "    </tr>\n",
              "    <tr>\n",
              "      <th>75%</th>\n",
              "      <td>6.400000</td>\n",
              "      <td>3.300000</td>\n",
              "      <td>5.100000</td>\n",
              "      <td>1.800000</td>\n",
              "      <td>2.000000</td>\n",
              "    </tr>\n",
              "    <tr>\n",
              "      <th>max</th>\n",
              "      <td>7.900000</td>\n",
              "      <td>4.400000</td>\n",
              "      <td>6.900000</td>\n",
              "      <td>2.500000</td>\n",
              "      <td>2.000000</td>\n",
              "    </tr>\n",
              "  </tbody>\n",
              "</table>\n",
              "</div>"
            ],
            "text/plain": [
              "       sepal length (cm)  sepal width (cm)  ...  petal width (cm)      target\n",
              "count         150.000000        150.000000  ...        150.000000  150.000000\n",
              "mean            5.843333          3.057333  ...          1.199333    1.000000\n",
              "std             0.828066          0.435866  ...          0.762238    0.819232\n",
              "min             4.300000          2.000000  ...          0.100000    0.000000\n",
              "25%             5.100000          2.800000  ...          0.300000    0.000000\n",
              "50%             5.800000          3.000000  ...          1.300000    1.000000\n",
              "75%             6.400000          3.300000  ...          1.800000    2.000000\n",
              "max             7.900000          4.400000  ...          2.500000    2.000000\n",
              "\n",
              "[8 rows x 5 columns]"
            ]
          },
          "metadata": {
            "tags": []
          },
          "execution_count": 7
        }
      ]
    },
    {
      "cell_type": "code",
      "metadata": {
        "id": "zt5aNd2o_Rky",
        "outputId": "a057ef8b-5ef0-4183-8934-df15df9177c8",
        "colab": {
          "base_uri": "https://localhost:8080/",
          "height": 85
        }
      },
      "source": [
        "df['target'].value_counts()"
      ],
      "execution_count": null,
      "outputs": [
        {
          "output_type": "execute_result",
          "data": {
            "text/plain": [
              "2    50\n",
              "1    50\n",
              "0    50\n",
              "Name: target, dtype: int64"
            ]
          },
          "metadata": {
            "tags": []
          },
          "execution_count": 11
        }
      ]
    },
    {
      "cell_type": "code",
      "metadata": {
        "id": "DqePXiEiBh5_"
      },
      "source": [
        "X = df[df.columns.difference(['target'])]"
      ],
      "execution_count": null,
      "outputs": []
    },
    {
      "cell_type": "code",
      "metadata": {
        "id": "--hcgGJdGV4v",
        "outputId": "59aa114c-9c91-4f4d-dc89-d6f37ead5278",
        "colab": {
          "base_uri": "https://localhost:8080/",
          "height": 170
        }
      },
      "source": [
        "X.info()"
      ],
      "execution_count": null,
      "outputs": [
        {
          "output_type": "stream",
          "text": [
            "<class 'pandas.core.frame.DataFrame'>\n",
            "RangeIndex: 150 entries, 0 to 149\n",
            "Data columns (total 4 columns):\n",
            "petal length (cm)    150 non-null float64\n",
            "petal width (cm)     150 non-null float64\n",
            "sepal length (cm)    150 non-null float64\n",
            "sepal width (cm)     150 non-null float64\n",
            "dtypes: float64(4)\n",
            "memory usage: 4.8 KB\n"
          ],
          "name": "stdout"
        }
      ]
    },
    {
      "cell_type": "markdown",
      "metadata": {
        "id": "FByqQHiR_rRd"
      },
      "source": [
        "## Number of Clusters"
      ]
    },
    {
      "cell_type": "markdown",
      "metadata": {
        "id": "dsWcZHW1AIwy"
      },
      "source": [
        "### Elbow Method"
      ]
    },
    {
      "cell_type": "markdown",
      "metadata": {
        "id": "zgi8v6jgqJB7"
      },
      "source": [
        "Elbow method runs clutering model for a range of cluster numbers and plot the within cluster sum of squares. The elbow on the plot shows the optimal number of cluster."
      ]
    },
    {
      "cell_type": "code",
      "metadata": {
        "id": "jEXyEjJz_bWy",
        "outputId": "13391306-ab1c-4b82-f941-e4c013056f92",
        "colab": {
          "base_uri": "https://localhost:8080/",
          "height": 458
        }
      },
      "source": [
        "wcss = [] # Within Cluster Sum of Squares\n",
        "for i in range(1, 11):\n",
        "    kmeans = KMeans(n_clusters = i, random_state = 42)\n",
        "    kmeans.fit(X)\n",
        "    wcss.append(kmeans.inertia_) # Inertia is the sum of squared error for each cluster. Therefore the smaller the inertia the denser the cluster\n",
        "plt.figure(figsize=(10, 7))  \n",
        "plt.plot(range(1, 11), wcss)\n",
        "plt.title('The Elbow Method')\n",
        "plt.xlabel('Number of clusters')\n",
        "plt.ylabel('Within Cluster Sum of Squares')\n",
        "plt.show()"
      ],
      "execution_count": null,
      "outputs": [
        {
          "output_type": "display_data",
          "data": {
            "image/png": "[encoded data removed]",
            "text/plain": [
              "<Figure size 720x504 with 1 Axes>"
            ]
          },
          "metadata": {
            "tags": []
          }
        }
      ]
    },
    {
      "cell_type": "markdown",
      "metadata": {
        "id": "X7ZBZT07AtEp"
      },
      "source": [
        "### Silhouette Score\n",
        "The silhouette value is a measure of how similar an object is to its own cluster (cohesion) compared to other clusters (separation). The silhouette ranges from −1 to +1, where a high value indicates that the object is well matched to its own cluster and poorly matched to neighboring clusters.\n",
        "\n",
        "The best value is 1 and the worst value is -1. Values near 0 indicate overlapping clusters. Negative values generally indicate that a sample has been assigned to the wrong cluster, as a different cluster is more similar. Values close to 1 mean that the data are appropriately clustered. If the returned value is close to -1 then the data more likely belongs in the neighboring cluster. A value of 0 indicates that the data resides on the border of two natural clusters."
      ]
    },
    {
      "cell_type": "code",
      "metadata": {
        "id": "0zV5WwmqAdbq",
        "outputId": "d8e25547-9b73-483b-e88c-acc42b62936a",
        "colab": {
          "base_uri": "https://localhost:8080/",
          "height": 170
        }
      },
      "source": [
        "\n",
        "from sklearn.metrics import silhouette_score\n",
        "for i in range(2, 11): # Silhouette Coefficient is only defined if number of labels is 2 <= n_labels <= n_samples - 1\n",
        "    kmeans = KMeans(n_clusters = i,  random_state = 42)\n",
        "    kmeans.fit(X)\n",
        "    classes = kmeans.predict(X)\n",
        "    print(silhouette_score(X, classes, metric='euclidean'))"
      ],
      "execution_count": null,
      "outputs": [
        {
          "output_type": "stream",
          "text": [
            "0.6810461692117462\n",
            "0.5528190123564097\n",
            "0.49805050499728737\n",
            "0.4887488870931055\n",
            "0.3648340039670026\n",
            "0.34750423280461673\n",
            "0.3617900335973817\n",
            "0.34022340175905735\n",
            "0.30749823702318574\n"
          ],
          "name": "stdout"
        }
      ]
    },
    {
      "cell_type": "markdown",
      "metadata": {
        "id": "CxlGyr1Arx-z"
      },
      "source": [
        "The visualization code is on sklearn documentation: https://scikit-learn.org/stable/auto_examples/cluster/plot_kmeans_silhouette_analysis.html"
      ]
    },
    {
      "cell_type": "markdown",
      "metadata": {
        "id": "tdVQVEwo8sMH"
      },
      "source": [
        "### Hierachical Clustering Graph"
      ]
    },
    {
      "cell_type": "code",
      "metadata": {
        "id": "fu7FoEO488AH",
        "outputId": "6298d065-8794-4732-fb0f-b39d32b5fcba",
        "colab": {
          "base_uri": "https://localhost:8080/",
          "height": 512
        }
      },
      "source": [
        "import scipy.cluster.hierarchy as sch\n",
        "from matplotlib.pyplot import figure\n",
        "plt.figure(figsize=(10,8))\n",
        "dendrogram = sch.dendrogram(sch.linkage(X))\n",
        "\n",
        "plt.title('Dendrogram')\n",
        "plt.xlabel('Iris')\n",
        "plt.ylabel('Euclidean distances')\n",
        "plt.show()"
      ],
      "execution_count": null,
      "outputs": [
        {
          "output_type": "display_data",
          "data": {
            "image/png": "[encoded data removed]",
            "text/plain": [
              "<Figure size 720x576 with 1 Axes>"
            ]
          },
          "metadata": {
            "tags": []
          }
        }
      ]
    },
    {
      "cell_type": "markdown",
      "metadata": {
        "id": "mtcsu095HKKq"
      },
      "source": [
        "### AIC and BIC from GMM"
      ]
    },
    {
      "cell_type": "code",
      "metadata": {
        "id": "Qz5om3qGHPnt",
        "outputId": "5b7f7c8d-198f-40db-c406-6cc0bc1b1fd0",
        "colab": {
          "base_uri": "https://localhost:8080/",
          "height": 280
        }
      },
      "source": [
        "n_components = np.arange(1, 11)\n",
        "models = [GaussianMixture(n, covariance_type='full', random_state=42).fit(X)\n",
        "          for n in n_components]\n",
        "\n",
        "plt.plot(n_components, [m.bic(X) for m in models], label='BIC')\n",
        "plt.plot(n_components, [m.aic(X) for m in models], label='AIC')\n",
        "plt.legend(loc='best')\n",
        "plt.xlabel('n_components');"
      ],
      "execution_count": null,
      "outputs": [
        {
          "output_type": "display_data",
          "data": {
            "image/png": "[encoded data removed]",
            "text/plain": [
              "<Figure size 432x288 with 1 Axes>"
            ]
          },
          "metadata": {
            "tags": []
          }
        }
      ]
    },
    {
      "cell_type": "code",
      "metadata": {
        "id": "sNq7be-38pGc"
      },
      "source": [
        ""
      ],
      "execution_count": null,
      "outputs": []
    },
    {
      "cell_type": "markdown",
      "metadata": {
        "id": "GP9AWlFzPTuY"
      },
      "source": [
        "### Gap Statistics\n",
        "Another way of choosing the optimal number of clusters is to use gap statistics. An example is here: https://anaconda.org/milesgranger/gap-statistic/notebook"
      ]
    },
    {
      "cell_type": "code",
      "metadata": {
        "id": "Tl0jfw_loDNN"
      },
      "source": [
        "def optimalK(data, nrefs=3, maxClusters=10):\n",
        "    \"\"\"\n",
        "    Calculates KMeans optimal K using Gap Statistic from Tibshirani, Walther, Hastie\n",
        "    Params:\n",
        "        data: ndarry of shape (n_samples, n_features)\n",
        "        nrefs: number of sample reference datasets to create\n",
        "        maxClusters: Maximum number of clusters to test for\n",
        "    Returns: (gaps, optimalK)\n",
        "    \"\"\"\n",
        "    gaps = np.zeros((len(range(1, maxClusters)),))\n",
        "    resultsdf = pd.DataFrame({'clusterCount':[], 'gap':[]})\n",
        "    for gap_index, k in enumerate(range(1, maxClusters)):\n",
        "\n",
        "        # Holder for reference dispersion results\n",
        "        refDisps = np.zeros(nrefs)\n",
        "\n",
        "        # For n references, generate random sample and perform kmeans getting resulting dispersion of each loop\n",
        "        for i in range(nrefs):\n",
        "            \n",
        "            # Create new random reference set\n",
        "            randomReference = np.random.random_sample(size=data.shape)\n",
        "            \n",
        "            # Fit to it\n",
        "            km = KMeans(k)\n",
        "            km.fit(randomReference)\n",
        "            \n",
        "            refDisp = km.inertia_\n",
        "            refDisps[i] = refDisp\n",
        "\n",
        "        # Fit cluster to original data and create dispersion\n",
        "        km = KMeans(k)\n",
        "        km.fit(data)\n",
        "        \n",
        "        origDisp = km.inertia_\n",
        "\n",
        "        # Calculate gap statistic\n",
        "        gap = np.log(np.mean(refDisps)) - np.log(origDisp)\n",
        "\n",
        "        # Assign this loop's gap statistic to gaps\n",
        "        gaps[gap_index] = gap\n",
        "        \n",
        "        resultsdf = resultsdf.append({'clusterCount':k, 'gap':gap}, ignore_index=True)\n",
        "\n",
        "    return (gaps.argmax() + 1, resultsdf)  # Plus 1 because index of 0 means 1 cluster is optimal, index 2 = 3 clusters are optimal"
      ],
      "execution_count": null,
      "outputs": []
    },
    {
      "cell_type": "code",
      "metadata": {
        "id": "KdnfiT0XodVR",
        "outputId": "e1eb64cf-e4c4-4968-eb4b-9ae744eb6f2d",
        "colab": {
          "base_uri": "https://localhost:8080/",
          "height": 34
        }
      },
      "source": [
        "k, gapdf = optimalK(X, nrefs=2, maxClusters=10)\n",
        "print('Optimal k is: ', k)"
      ],
      "execution_count": null,
      "outputs": [
        {
          "output_type": "stream",
          "text": [
            "Optimal k is:  8\n"
          ],
          "name": "stdout"
        }
      ]
    },
    {
      "cell_type": "code",
      "metadata": {
        "id": "uOTy1BAhoumb",
        "outputId": "f1465781-4038-46f3-c4c8-c5c68cfe89ab",
        "colab": {
          "base_uri": "https://localhost:8080/",
          "height": 295
        }
      },
      "source": [
        "plt.plot(gapdf.clusterCount, gapdf.gap, linewidth=3)\n",
        "plt.scatter(gapdf[gapdf.clusterCount == k].clusterCount, gapdf[gapdf.clusterCount == k].gap, s=250, c='r')\n",
        "plt.grid(True)\n",
        "plt.xlabel('Cluster Count')\n",
        "plt.ylabel('Gap Value')\n",
        "plt.title('Gap Values by Cluster Count')\n",
        "plt.show()"
      ],
      "execution_count": null,
      "outputs": [
        {
          "output_type": "display_data",
          "data": {
            "image/png": "[encoded data removed]",
            "text/plain": [
              "<Figure size 432x288 with 1 Axes>"
            ]
          },
          "metadata": {
            "tags": [],
            "needs_background": "light"
          }
        }
      ]
    },
    {
      "cell_type": "markdown",
      "metadata": {
        "id": "MRKbI65VRlh0"
      },
      "source": [
        "## Kmeans Clustering"
      ]
    },
    {
      "cell_type": "markdown",
      "metadata": {
        "id": "yXkKQC7vWOxw"
      },
      "source": [
        "### Fit the Kmeans Clustering Model"
      ]
    },
    {
      "cell_type": "code",
      "metadata": {
        "id": "uoEartcNBIVU"
      },
      "source": [
        "kmeans = KMeans(n_clusters = 3,  random_state = 42)\n",
        "y_kmeans = pd.DataFrame(kmeans.fit_predict(X),columns=['y_kmeans'])\n",
        "dfKmeans = pd.concat([X,y_kmeans], axis=1)"
      ],
      "execution_count": null,
      "outputs": []
    },
    {
      "cell_type": "code",
      "metadata": {
        "id": "_Nre_FrNSKSU",
        "outputId": "035b688d-80a0-420c-c3f7-2dace5761d00",
        "colab": {
          "base_uri": "https://localhost:8080/",
          "height": 85
        }
      },
      "source": [
        "dfKmeans['y_kmeans'].value_counts()"
      ],
      "execution_count": null,
      "outputs": [
        {
          "output_type": "execute_result",
          "data": {
            "text/plain": [
              "0    62\n",
              "1    50\n",
              "2    38\n",
              "Name: y_kmeans, dtype: int64"
            ]
          },
          "metadata": {
            "tags": []
          },
          "execution_count": 13
        }
      ]
    },
    {
      "cell_type": "code",
      "metadata": {
        "id": "Dq7CXzVJMnky",
        "outputId": "9b627a53-a31c-48ff-88a2-4ae1ec7f5535",
        "colab": {
          "base_uri": "https://localhost:8080/",
          "height": 85
        }
      },
      "source": [
        "# Rename the labels to make them consistent with the target in visualization color\n",
        "dfKmeans['y_kmeans'] = dfKmeans['y_kmeans'].map({1:0,0:1,2:2})\n",
        "dfKmeans['y_kmeans'].value_counts()"
      ],
      "execution_count": null,
      "outputs": [
        {
          "output_type": "execute_result",
          "data": {
            "text/plain": [
              "1    62\n",
              "0    50\n",
              "2    38\n",
              "Name: y_kmeans, dtype: int64"
            ]
          },
          "metadata": {
            "tags": []
          },
          "execution_count": 14
        }
      ]
    },
    {
      "cell_type": "markdown",
      "metadata": {
        "id": "ELCpWLVCWi1z"
      },
      "source": [
        "### Visualization of Predicted Clusters"
      ]
    },
    {
      "cell_type": "code",
      "metadata": {
        "id": "94jPkQTuK_tX",
        "outputId": "50810c8f-7546-432d-dbe7-fa707af494a4",
        "colab": {
          "base_uri": "https://localhost:8080/",
          "height": 298
        }
      },
      "source": [
        "# True Clusters\n",
        "pca = PCA(n_components=2, whiten=True)\n",
        "\n",
        "df['PCA1'] = pca.fit_transform(df[df.columns.difference(['target'])])[:, 0]\n",
        "df['PCA2'] = pca.fit_transform(df[df.columns.difference(['target'])])[:, 1]\n",
        "sns.scatterplot(x='PCA1', y='PCA2', hue='target', data=df)"
      ],
      "execution_count": null,
      "outputs": [
        {
          "output_type": "execute_result",
          "data": {
            "text/plain": [
              "<matplotlib.axes._subplots.AxesSubplot at 0x7fb1de67a1d0>"
            ]
          },
          "metadata": {
            "tags": []
          },
          "execution_count": 22
        },
        {
          "output_type": "display_data",
          "data": {
            "image/png": "[encoded data removed]",
            "text/plain": [
              "<Figure size 432x288 with 1 Axes>"
            ]
          },
          "metadata": {
            "tags": []
          }
        }
      ]
    },
    {
      "cell_type": "code",
      "metadata": {
        "id": "W1ib1fIUSOq1",
        "outputId": "f9323d53-d859-4f43-de34-04254ee967ca",
        "colab": {
          "base_uri": "https://localhost:8080/",
          "height": 298
        }
      },
      "source": [
        "# Kmeans Predectied Clusters\n",
        "pca = PCA(n_components=2, whiten=True)\n",
        "\n",
        "dfKmeans['PCA1'] = pca.fit_transform(X)[:, 0]\n",
        "dfKmeans['PCA2'] = pca.fit_transform(X)[:, 1]\n",
        "sns.scatterplot(x='PCA1', y='PCA2', hue='y_kmeans', data=dfKmeans)"
      ],
      "execution_count": null,
      "outputs": [
        {
          "output_type": "execute_result",
          "data": {
            "text/plain": [
              "<matplotlib.axes._subplots.AxesSubplot at 0x7f175aa1b278>"
            ]
          },
          "metadata": {
            "tags": []
          },
          "execution_count": 15
        },
        {
          "output_type": "display_data",
          "data": {
            "image/png": "[encoded data removed]",
            "text/plain": [
              "<Figure size 432x288 with 1 Axes>"
            ]
          },
          "metadata": {
            "tags": []
          }
        }
      ]
    },
    {
      "cell_type": "code",
      "metadata": {
        "id": "Pt_D52COTSFC",
        "outputId": "38fde35d-8d3c-4a55-8412-c7688e8a9d5c",
        "colab": {
          "base_uri": "https://localhost:8080/",
          "height": 68
        }
      },
      "source": [
        "print(pd.DataFrame(pca.components_,columns=X.columns,index = ['PCA1','PCA2']))"
      ],
      "execution_count": null,
      "outputs": [
        {
          "output_type": "stream",
          "text": [
            "      petal length (cm)  petal width (cm)  sepal length (cm)  sepal width (cm)\n",
            "PCA1           0.856671          0.358289           0.361387         -0.084523\n",
            "PCA2          -0.173373         -0.075481           0.656589          0.730161\n"
          ],
          "name": "stdout"
        }
      ]
    },
    {
      "cell_type": "code",
      "metadata": {
        "id": "OeMWFzi0V6Nk",
        "outputId": "550200d4-f699-4fcb-b3f5-287915b522bf",
        "colab": {
          "base_uri": "https://localhost:8080/",
          "height": 111
        }
      },
      "source": [
        "X_pc = pca.fit_transform(X)\n",
        "# number of components\n",
        "n_pcs= pca.components_.shape[0]\n",
        "# get the index of the most important feature on EACH component i.e. largest absolute value\n",
        "# using LIST COMPREHENSION HERE\n",
        "most_important = [np.abs(pca.components_[i]).argmax() for i in range(n_pcs)]\n",
        "initial_feature_names = X.columns\n",
        "initial_feature_names\n",
        "# get the names\n",
        "most_important_names = [initial_feature_names[most_important[i]] for i in range(n_pcs)]\n",
        "# using LIST COMPREHENSION HERE AGAIN\n",
        "dic = {'PCA{}'.format(i+1): most_important_names[i] for i in range(n_pcs)}\n",
        "\n",
        "# build the dataframe\n",
        "pcaImportantVar = pd.DataFrame(sorted(dic.items()))\n",
        "pcaImportantVar"
      ],
      "execution_count": null,
      "outputs": [
        {
          "output_type": "execute_result",
          "data": {
            "text/html": [
              "<div>\n",
              "<style scoped>\n",
              "    .dataframe tbody tr th:only-of-type {\n",
              "        vertical-align: middle;\n",
              "    }\n",
              "\n",
              "    .dataframe tbody tr th {\n",
              "        vertical-align: top;\n",
              "    }\n",
              "\n",
              "    .dataframe thead th {\n",
              "        text-align: right;\n",
              "    }\n",
              "</style>\n",
              "<table border=\"1\" class=\"dataframe\">\n",
              "  <thead>\n",
              "    <tr style=\"text-align: right;\">\n",
              "      <th></th>\n",
              "      <th>0</th>\n",
              "      <th>1</th>\n",
              "    </tr>\n",
              "  </thead>\n",
              "  <tbody>\n",
              "    <tr>\n",
              "      <th>0</th>\n",
              "      <td>PCA1</td>\n",
              "      <td>petal length (cm)</td>\n",
              "    </tr>\n",
              "    <tr>\n",
              "      <th>1</th>\n",
              "      <td>PCA2</td>\n",
              "      <td>sepal width (cm)</td>\n",
              "    </tr>\n",
              "  </tbody>\n",
              "</table>\n",
              "</div>"
            ],
            "text/plain": [
              "      0                  1\n",
              "0  PCA1  petal length (cm)\n",
              "1  PCA2   sepal width (cm)"
            ]
          },
          "metadata": {
            "tags": []
          },
          "execution_count": 17
        }
      ]
    },
    {
      "cell_type": "markdown",
      "metadata": {
        "id": "GCh_ckFVRooL"
      },
      "source": [
        "### T-distributed Stochastic Neighbor Embedding (t-SNE) Placeholder"
      ]
    },
    {
      "cell_type": "markdown",
      "metadata": {
        "id": "BjDn8XI4kAuS"
      },
      "source": [
        "### Visualize Differentiatial Variables"
      ]
    },
    {
      "cell_type": "code",
      "metadata": {
        "id": "JKTZQfgckK13",
        "outputId": "b1e624ab-214f-42f6-9fb7-0c4f7ce78c5c",
        "colab": {
          "base_uri": "https://localhost:8080/",
          "height": 142
        }
      },
      "source": [
        "avg = pd.DataFrame(dfKmeans.groupby(['y_kmeans']).mean().reset_index())\n",
        "avg"
      ],
      "execution_count": null,
      "outputs": [
        {
          "output_type": "execute_result",
          "data": {
            "text/html": [
              "<div>\n",
              "<style scoped>\n",
              "    .dataframe tbody tr th:only-of-type {\n",
              "        vertical-align: middle;\n",
              "    }\n",
              "\n",
              "    .dataframe tbody tr th {\n",
              "        vertical-align: top;\n",
              "    }\n",
              "\n",
              "    .dataframe thead th {\n",
              "        text-align: right;\n",
              "    }\n",
              "</style>\n",
              "<table border=\"1\" class=\"dataframe\">\n",
              "  <thead>\n",
              "    <tr style=\"text-align: right;\">\n",
              "      <th></th>\n",
              "      <th>y_kmeans</th>\n",
              "      <th>petal length (cm)</th>\n",
              "      <th>petal width (cm)</th>\n",
              "      <th>sepal length (cm)</th>\n",
              "      <th>sepal width (cm)</th>\n",
              "      <th>PCA1</th>\n",
              "      <th>PCA2</th>\n",
              "    </tr>\n",
              "  </thead>\n",
              "  <tbody>\n",
              "    <tr>\n",
              "      <th>0</th>\n",
              "      <td>0</td>\n",
              "      <td>1.462000</td>\n",
              "      <td>0.246000</td>\n",
              "      <td>5.006000</td>\n",
              "      <td>3.428000</td>\n",
              "      <td>-1.285053</td>\n",
              "      <td>0.387492</td>\n",
              "    </tr>\n",
              "    <tr>\n",
              "      <th>1</th>\n",
              "      <td>1</td>\n",
              "      <td>4.393548</td>\n",
              "      <td>1.433871</td>\n",
              "      <td>5.901613</td>\n",
              "      <td>2.748387</td>\n",
              "      <td>0.328587</td>\n",
              "      <td>-0.639859</td>\n",
              "    </tr>\n",
              "    <tr>\n",
              "      <th>2</th>\n",
              "      <td>2</td>\n",
              "      <td>5.742105</td>\n",
              "      <td>2.071053</td>\n",
              "      <td>6.850000</td>\n",
              "      <td>3.073684</td>\n",
              "      <td>1.154745</td>\n",
              "      <td>0.534122</td>\n",
              "    </tr>\n",
              "  </tbody>\n",
              "</table>\n",
              "</div>"
            ],
            "text/plain": [
              "   y_kmeans  petal length (cm)  ...      PCA1      PCA2\n",
              "0         0           1.462000  ... -1.285053  0.387492\n",
              "1         1           4.393548  ...  0.328587 -0.639859\n",
              "2         2           5.742105  ...  1.154745  0.534122\n",
              "\n",
              "[3 rows x 7 columns]"
            ]
          },
          "metadata": {
            "tags": []
          },
          "execution_count": 18
        }
      ]
    },
    {
      "cell_type": "code",
      "metadata": {
        "id": "9UIH6kdElWZZ",
        "outputId": "57d5dbaa-dd50-43f7-fe7f-9842c17c97a5",
        "colab": {
          "base_uri": "https://localhost:8080/",
          "height": 68
        }
      },
      "source": [
        "avg.columns\n"
      ],
      "execution_count": null,
      "outputs": [
        {
          "output_type": "execute_result",
          "data": {
            "text/plain": [
              "Index(['y_kmeans', 'petal length (cm)', 'petal width (cm)',\n",
              "       'sepal length (cm)', 'sepal width (cm)', 'PCA1', 'PCA2'],\n",
              "      dtype='object')"
            ]
          },
          "metadata": {
            "tags": []
          },
          "execution_count": 32
        }
      ]
    },
    {
      "cell_type": "code",
      "metadata": {
        "id": "FBAxIjWtleYj",
        "outputId": "26f720f5-6979-480a-ce01-85ca9339d16e",
        "colab": {
          "base_uri": "https://localhost:8080/",
          "height": 1000
        }
      },
      "source": [
        "varList = ['petal length (cm)', 'petal width (cm)', 'sepal length (cm)', 'sepal width (cm)']\n",
        "for i in varList:\n",
        "    plt.figure(figsize=(10, 7))\n",
        "    sns.barplot(x='y_kmeans',y=i,data=avg)"
      ],
      "execution_count": null,
      "outputs": [
        {
          "output_type": "display_data",
          "data": {
            "image/png": "[encoded data removed]",
            "text/plain": [
              "<Figure size 720x504 with 1 Axes>"
            ]
          },
          "metadata": {
            "tags": []
          }
        },
        {
          "output_type": "display_data",
          "data": {
            "image/png": "[encoded data removed]",
            "text/plain": [
              "<Figure size 720x504 with 1 Axes>"
            ]
          },
          "metadata": {
            "tags": []
          }
        },
        {
          "output_type": "display_data",
          "data": {
            "image/png": "[encoded data removed]",
            "text/plain": [
              "<Figure size 720x504 with 1 Axes>"
            ]
          },
          "metadata": {
            "tags": []
          }
        },
        {
          "output_type": "display_data",
          "data": {
            "image/png": "[encoded data removed]",
            "text/plain": [
              "<Figure size 720x504 with 1 Axes>"
            ]
          },
          "metadata": {
            "tags": []
          }
        }
      ]
    },
    {
      "cell_type": "markdown",
      "metadata": {
        "id": "wPDkflvRZ48W"
      },
      "source": [
        "## Hierachical Clustering"
      ]
    },
    {
      "cell_type": "code",
      "metadata": {
        "id": "vml2_p1um0sf"
      },
      "source": [
        "from sklearn.cluster import AgglomerativeClustering\n",
        "hc = AgglomerativeClustering(n_clusters = 3, affinity = 'euclidean')\n",
        "y_hc = pd.DataFrame(hc.fit_predict(X), columns=['y_hc'])\n",
        "dfHC = pd.concat([X,y_hc], axis=1)"
      ],
      "execution_count": null,
      "outputs": []
    },
    {
      "cell_type": "code",
      "metadata": {
        "id": "oE-1eAiSnbB0",
        "outputId": "ddbe1b0d-7799-4442-9f2d-735c23e890fd",
        "colab": {
          "base_uri": "https://localhost:8080/",
          "height": 85
        }
      },
      "source": [
        "dfHC['y_hc'].value_counts()"
      ],
      "execution_count": null,
      "outputs": [
        {
          "output_type": "execute_result",
          "data": {
            "text/plain": [
              "0    64\n",
              "1    50\n",
              "2    36\n",
              "Name: y_hc, dtype: int64"
            ]
          },
          "metadata": {
            "tags": []
          },
          "execution_count": 38
        }
      ]
    },
    {
      "cell_type": "markdown",
      "metadata": {
        "id": "V5RrWoAsamDo"
      },
      "source": [
        "## Gaussian Mixture Model (GMM)\n",
        "To do:\n",
        "DPGMM\n",
        "Infinite gaussian mixture model, using the dirichlet process, fit with a variational algorithm\n",
        "VBGMM\n",
        "Finite gaussian mixture model fit with a variational algorithm, better for situations where there might be too little data to get a good estimate of the covariance matrix."
      ]
    },
    {
      "cell_type": "code",
      "metadata": {
        "id": "37z25m7SrMn-"
      },
      "source": [
        "# from sklearn.mixture import GaussianMixture\n",
        "gmm = GaussianMixture(n_components=3, random_state=42)\n",
        "y_gmm = pd.DataFrame(gmm.fit_predict(X), columns=['y_gmm'])\n",
        "dfGMM = pd.concat([X, y_gmm], axis=1)"
      ],
      "execution_count": null,
      "outputs": []
    },
    {
      "cell_type": "code",
      "metadata": {
        "id": "dN4whiLaUfwr",
        "outputId": "96278c99-5244-4e4b-95a5-7b3f21ae3dd8",
        "colab": {
          "base_uri": "https://localhost:8080/",
          "height": 85
        }
      },
      "source": [
        "dfGMM['y_gmm'].value_counts()"
      ],
      "execution_count": null,
      "outputs": [
        {
          "output_type": "execute_result",
          "data": {
            "text/plain": [
              "1    55\n",
              "2    50\n",
              "0    45\n",
              "Name: y_gmm, dtype: int64"
            ]
          },
          "metadata": {
            "tags": []
          },
          "execution_count": 22
        }
      ]
    },
    {
      "cell_type": "code",
      "metadata": {
        "id": "sdv_xHObsaui"
      },
      "source": [
        "probs = gmm.predict_proba(X)\n",
        "print(probs[:100].round(3))"
      ],
      "execution_count": null,
      "outputs": []
    },
    {
      "cell_type": "markdown",
      "metadata": {
        "id": "4ngDMJ8dOCW6"
      },
      "source": [
        "## Density-based spatial clustering of applications with noise (DBSCAN) "
      ]
    },
    {
      "cell_type": "code",
      "metadata": {
        "id": "bM45gdkASN0d",
        "outputId": "490f99d9-e57f-4a7c-85e6-73ac26eafd85",
        "colab": {
          "base_uri": "https://localhost:8080/",
          "height": 85
        }
      },
      "source": [
        "dbscan = DBSCAN(eps=0.25, min_samples=5) \n",
        "y_dbscan = pd.DataFrame(dbscan.fit_predict(X), columns=['y_dbscan'])\n",
        "dfDBSCAN = pd.concat([X, y_dbscan], axis=1)\n",
        "dfDBSCAN['y_dbscan'].value_counts()"
      ],
      "execution_count": null,
      "outputs": [
        {
          "output_type": "execute_result",
          "data": {
            "text/plain": [
              "-1    112\n",
              " 0     33\n",
              " 1      5\n",
              "Name: y_dbscan, dtype: int64"
            ]
          },
          "metadata": {
            "tags": []
          },
          "execution_count": 47
        }
      ]
    },
    {
      "cell_type": "markdown",
      "metadata": {
        "id": "klNR18IOUD2F"
      },
      "source": [
        "`eps` is the maximum distance between two samples for one to be considered as in the neighborhood of the other. This is not a maximum bound on the distances of points within a cluster. This is the most important DBSCAN parameter to choose appropriately for your data set and distance function."
      ]
    },
    {
      "cell_type": "code",
      "metadata": {
        "id": "Ps59BP0RWG5Y",
        "outputId": "b03c0741-e93f-46b0-d516-efdcd9014377",
        "colab": {
          "base_uri": "https://localhost:8080/",
          "height": 85
        }
      },
      "source": [
        "dbscan = DBSCAN(eps=0.5, min_samples=5) \n",
        "y_dbscan = pd.DataFrame(dbscan.fit_predict(X), columns=['y_dbscan'])\n",
        "dfDBSCAN = pd.concat([X, y_dbscan], axis=1)\n",
        "dfDBSCAN['y_dbscan'].value_counts()"
      ],
      "execution_count": null,
      "outputs": [
        {
          "output_type": "execute_result",
          "data": {
            "text/plain": [
              " 1    84\n",
              " 0    49\n",
              "-1    17\n",
              "Name: y_dbscan, dtype: int64"
            ]
          },
          "metadata": {
            "tags": []
          },
          "execution_count": 48
        }
      ]
    },
    {
      "cell_type": "markdown",
      "metadata": {
        "id": "J-KAp7AdWur0"
      },
      "source": [
        "## OPTICS (Ordering Points To Identify the Clustering Structure)"
      ]
    },
    {
      "cell_type": "code",
      "metadata": {
        "id": "MomKdYIhWtoF",
        "outputId": "62c54a77-dbe0-429a-ae86-5675ab3764ea",
        "colab": {
          "base_uri": "https://localhost:8080/",
          "height": 153
        }
      },
      "source": [
        "optics = OPTICS(min_samples=5)\n",
        "y_optics = pd.DataFrame(optics.fit_predict(X), columns=['y_optics'])\n",
        "dfOPTICS = pd.concat([X, y_optics], axis=1)\n",
        "dfOPTICS['y_optics'].value_counts()"
      ],
      "execution_count": null,
      "outputs": [
        {
          "output_type": "execute_result",
          "data": {
            "text/plain": [
              "-1    87\n",
              " 2    15\n",
              " 0    14\n",
              " 5    12\n",
              " 3    10\n",
              " 1     7\n",
              " 4     5\n",
              "Name: y_optics, dtype: int64"
            ]
          },
          "metadata": {
            "tags": []
          },
          "execution_count": 56
        }
      ]
    },
    {
      "cell_type": "code",
      "metadata": {
        "id": "crNbIq_DXZWo",
        "outputId": "98fadbe8-c734-4173-c452-29e0d6e1af95",
        "colab": {
          "base_uri": "https://localhost:8080/",
          "height": 68
        }
      },
      "source": [
        "optics = OPTICS(min_samples=15)\n",
        "y_optics = pd.DataFrame(optics.fit_predict(X), columns=['y_optics'])\n",
        "dfOPTICS = pd.concat([X, y_optics], axis=1)\n",
        "dfOPTICS['y_optics'].value_counts()"
      ],
      "execution_count": null,
      "outputs": [
        {
          "output_type": "execute_result",
          "data": {
            "text/plain": [
              "1    100\n",
              "0     50\n",
              "Name: y_optics, dtype: int64"
            ]
          },
          "metadata": {
            "tags": []
          },
          "execution_count": 59
        }
      ]
    },
    {
      "cell_type": "markdown",
      "metadata": {
        "id": "kYfqqsweqJRg"
      },
      "source": [
        "# Clustering for Cateogrical Variables"
      ]
    },
    {
      "cell_type": "markdown",
      "metadata": {
        "id": "E_2bx0j2qctW"
      },
      "source": [
        "## K-Modes"
      ]
    },
    {
      "cell_type": "markdown",
      "metadata": {
        "id": "uXUCPnrKq3R5"
      },
      "source": [
        "# Clustering for Data with Both Categorical and Continuous Variables"
      ]
    },
    {
      "cell_type": "markdown",
      "metadata": {
        "id": "OiQCUAxuq9Ka"
      },
      "source": [
        "## K-Prototypes"
      ]
    },
    {
      "cell_type": "markdown",
      "metadata": {
        "id": "Dt61a4ynWL6m"
      },
      "source": [
        "## Text Clustering"
      ]
    },
    {
      "cell_type": "code",
      "metadata": {
        "id": "MX4L34LhWSZO"
      },
      "source": [
        ""
      ],
      "execution_count": null,
      "outputs": []
    }
  ]
}